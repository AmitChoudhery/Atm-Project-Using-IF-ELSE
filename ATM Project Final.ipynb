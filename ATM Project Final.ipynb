{
 "cells": [
  {
   "cell_type": "code",
   "execution_count": null,
   "id": "90042eaa",
   "metadata": {},
   "outputs": [
    {
     "name": "stdout",
     "output_type": "stream",
     "text": [
      "Enter your PIN: 1212\n",
      "Welcome to the Amit ATM!\n",
      "1. Withdraw\n",
      "2. Deposit\n",
      "3. Check Balance\n",
      "4. Exit\n",
      "Enter your choice: 2\n",
      "Enter the amount to deposit: 100\n",
      "Deposit successful. New balance: 100100\n",
      "1. Withdraw\n",
      "2. Deposit\n",
      "3. Check Balance\n",
      "4. Exit\n",
      "Enter your choice: 3\n",
      "Your current balance is: 100100\n",
      "1. Withdraw\n",
      "2. Deposit\n",
      "3. Check Balance\n",
      "4. Exit\n",
      "Enter your choice: 1\n",
      "Enter the amount to withdraw: 100\n",
      "Withdrawal successful. New balance: 100000\n",
      "1. Withdraw\n",
      "2. Deposit\n",
      "3. Check Balance\n",
      "4. Exit\n"
     ]
    }
   ],
   "source": [
    "# ATM project using if else \n",
    "def main():\n",
    "    \n",
    "    account_balance = 100000\n",
    "    pin = 1212\n",
    "\n",
    "    # User enters PIN\n",
    "    entered_pin = int(input(\"Enter your PIN: \"))\n",
    "\n",
    "    # Verify PIN\n",
    "    if entered_pin == pin:\n",
    "        print(\"Welcome to the Amit ATM!\")\n",
    "\n",
    "        # Main ATM menu\n",
    "        while True:\n",
    "            print(\"1. Withdraw\")\n",
    "            print(\"2. Deposit\")\n",
    "            print(\"3. Check Balance\")\n",
    "            print(\"4. Exit\")\n",
    "\n",
    "            choice = int(input(\"Enter your choice: \"))\n",
    "\n",
    "            # Handle user choices\n",
    "            if choice == 1:\n",
    "                withdraw_amount = int(input(\"Enter the amount to withdraw: \"))\n",
    "\n",
    "                if withdraw_amount > account_balance:\n",
    "                    print(\"Insufficient funds\")\n",
    "                else:\n",
    "                    account_balance -= withdraw_amount\n",
    "                    print(\"Withdrawal successful. New balance:\", account_balance)\n",
    "\n",
    "            elif choice == 2:\n",
    "                deposit_amount = int(input(\"Enter the amount to deposit: \"))\n",
    "                account_balance += deposit_amount\n",
    "                print(\"Deposit successful. New balance:\", account_balance)\n",
    "\n",
    "            elif choice == 3:\n",
    "                print(\"Your current balance is:\", account_balance)\n",
    "\n",
    "            elif choice == 4:\n",
    "                print(\"Thank you for using the ATM.\")\n",
    "                break\n",
    "\n",
    "            else:\n",
    "                print(\"Invalid choice\")\n",
    "\n",
    "    else:\n",
    "        print(\"Incorrect PIN. Please try again.\")\n",
    "if __name__ == \"__main__\":\n",
    "    main()\n",
    "\n"
   ]
  },
  {
   "cell_type": "code",
   "execution_count": null,
   "id": "71506c1c",
   "metadata": {},
   "outputs": [],
   "source": []
  }
 ],
 "metadata": {
  "kernelspec": {
   "display_name": "Python 3 (ipykernel)",
   "language": "python",
   "name": "python3"
  },
  "language_info": {
   "codemirror_mode": {
    "name": "ipython",
    "version": 3
   },
   "file_extension": ".py",
   "mimetype": "text/x-python",
   "name": "python",
   "nbconvert_exporter": "python",
   "pygments_lexer": "ipython3",
   "version": "3.11.4"
  }
 },
 "nbformat": 4,
 "nbformat_minor": 5
}
